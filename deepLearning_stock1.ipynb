{
  "nbformat": 4,
  "nbformat_minor": 0,
  "metadata": {
    "colab": {
      "name": "deepLearning_stock1.ipynb",
      "provenance": [],
      "collapsed_sections": [],
      "mount_file_id": "1X_SEy6WFpx2gFrbIu-d3WqKtpvNdAYIk",
      "authorship_tag": "ABX9TyN04qtORINY14T6nmhyR1E8",
      "include_colab_link": true
    },
    "kernelspec": {
      "name": "python3",
      "display_name": "Python 3"
    },
    "accelerator": "TPU"
  },
  "cells": [
    {
      "cell_type": "markdown",
      "metadata": {
        "id": "view-in-github",
        "colab_type": "text"
      },
      "source": [
        "<a href=\"https://colab.research.google.com/github/uyan21/ISC/blob/master/deepLearning_stock1.ipynb\" target=\"_parent\"><img src=\"https://colab.research.google.com/assets/colab-badge.svg\" alt=\"Open In Colab\"/></a>"
      ]
    },
    {
      "cell_type": "code",
      "metadata": {
        "id": "Bnql29_FAy5I"
      },
      "source": [
        "#주가 정보 크롤링을 위해서 url 입력\n",
        "code=\"195990\"\n",
        "url=\"https://finance.naver.com/item/sise_day.nhn?code=\"+code\n",
        "\n",
        "import requests\n",
        "from bs4 import BeautifulSoup\n",
        "from openpyxl import Workbook\n",
        "import pandas as pd\n",
        "import matplotlib.pyplot as plt\n",
        "import numpy as np\n",
        "#엑셀에 따로쓰기 위함\n",
        "wb=Workbook()\n",
        "ws=wb.active"
      ],
      "execution_count": 52,
      "outputs": []
    },
    {
      "cell_type": "code",
      "metadata": {
        "colab": {
          "base_uri": "https://localhost:8080/"
        },
        "id": "ESzeYnNFC0zf",
        "outputId": "2e32d0c4-3496-4c20-b12c-baefd3fe2b52"
      },
      "source": [
        "#1~129페이지 까지 긁는다\n",
        "#액면 분할 이후 데이터 취급 주의\n",
        "for i in range(1,130):\n",
        "  tmplist=[]\n",
        "  tmp=0\n",
        "  source=requests.get(url+\"&page=\"+str(i)).text\n",
        "\n",
        "  soup=BeautifulSoup(source,\"html.parser\")\n",
        "  html=soup.select(\"table.type2\")\n",
        "  for t in html:\n",
        "    text=t.get_text().replace(\"\\t\",\"\")\n",
        "    while \"\\n\\n\" in text:\n",
        "      text=text.replace(\"\\n\\n\",\"\\n\")\n",
        "  text=text[1:]\n",
        "  textlist=text.split(\"\\n\")\n",
        "  if i>1:\n",
        "    textlist=textlist[7:]\n",
        "\n",
        "  for t in textlist:\n",
        "    tmplist.append(t)\n",
        "    tmp+=1\n",
        "    if tmp>6:\n",
        "      ws.append(tmplist)\n",
        "      tmplist=[]\n",
        "      tmp=0\n",
        "  wb.save(\"stock1.xlsx\")\n",
        "print(\"Done.\")"
      ],
      "execution_count": 53,
      "outputs": [
        {
          "output_type": "stream",
          "text": [
            "Done.\n"
          ],
          "name": "stdout"
        }
      ]
    },
    {
      "cell_type": "code",
      "metadata": {
        "id": "01BFtxYJC8Gj",
        "colab": {
          "base_uri": "https://localhost:8080/"
        },
        "outputId": "db51565d-026c-4e8b-976b-23286a164eca"
      },
      "source": [
        "#크롤링한 엑셀 데이터 다시 읽어와서 확인 한다.\n",
        "df=pd.read_excel(\"stock1.xlsx\")\n",
        "print(df['종가'].head(5))"
      ],
      "execution_count": 54,
      "outputs": [
        {
          "output_type": "stream",
          "text": [
            "0    2,660\n",
            "1    2,735\n",
            "2    3,000\n",
            "3    3,000\n",
            "4    2,885\n",
            "Name: 종가, dtype: object\n"
          ],
          "name": "stdout"
        }
      ]
    },
    {
      "cell_type": "code",
      "metadata": {
        "colab": {
          "base_uri": "https://localhost:8080/",
          "height": 265
        },
        "id": "Zo91rlIXxpU2",
        "outputId": "9682d68c-4212-4a58-e90c-d2cce6af30e8"
      },
      "source": [
        "#종가 데이터 그래프 출력(정규화 필요함)\n",
        "plt.plot(df['종가'])\n",
        "plt.show()"
      ],
      "execution_count": 55,
      "outputs": [
        {
          "output_type": "display_data",
          "data": {
            "image/png": "[encoded data removed]",
            "text/plain": [
              "<Figure size 432x288 with 1 Axes>"
            ]
          },
          "metadata": {
            "tags": [],
            "needs_background": "light"
          }
        }
      ]
    },
    {
      "cell_type": "code",
      "metadata": {
        "id": "PZo5UNKazUIH"
      },
      "source": [
        "#정규화를 위해 ,빼고 문자열 float으로 형변환\n",
        "df=pd.read_excel(\"stock1.xlsx\")\n",
        "for i in range(1,7):\n",
        "  df.iloc[:,i]=df.iloc[:,i].str.replace(pat=',', repl='', regex=False)\n",
        "  df.iloc[:,i]=df.iloc[:,i].astype(float)"
      ],
      "execution_count": 58,
      "outputs": []
    },
    {
      "cell_type": "code",
      "metadata": {
        "colab": {
          "base_uri": "https://localhost:8080/",
          "height": 404
        },
        "id": "8ZTh1d-izWvr",
        "outputId": "02a30a69-ea8f-45e5-d697-6887bd439088"
      },
      "source": [
        "#확인\n",
        "df.iloc[:,:]"
      ],
      "execution_count": 59,
      "outputs": [
        {
          "output_type": "execute_result",
          "data": {
            "text/html": [
              "<div>\n",
              "<style scoped>\n",
              "    .dataframe tbody tr th:only-of-type {\n",
              "        vertical-align: middle;\n",
              "    }\n",
              "\n",
              "    .dataframe tbody tr th {\n",
              "        vertical-align: top;\n",
              "    }\n",
              "\n",
              "    .dataframe thead th {\n",
              "        text-align: right;\n",
              "    }\n",
              "</style>\n",
              "<table border=\"1\" class=\"dataframe\">\n",
              "  <thead>\n",
              "    <tr style=\"text-align: right;\">\n",
              "      <th></th>\n",
              "      <th>날짜</th>\n",
              "      <th>종가</th>\n",
              "      <th>전일비</th>\n",
              "      <th>시가</th>\n",
              "      <th>고가</th>\n",
              "      <th>저가</th>\n",
              "      <th>거래량</th>\n",
              "    </tr>\n",
              "  </thead>\n",
              "  <tbody>\n",
              "    <tr>\n",
              "      <th>0</th>\n",
              "      <td>2020.11.27</td>\n",
              "      <td>2660.0</td>\n",
              "      <td>75.0</td>\n",
              "      <td>2530.0</td>\n",
              "      <td>2900.0</td>\n",
              "      <td>2355.0</td>\n",
              "      <td>244232291.0</td>\n",
              "    </tr>\n",
              "    <tr>\n",
              "      <th>1</th>\n",
              "      <td>2020.11.26</td>\n",
              "      <td>2735.0</td>\n",
              "      <td>265.0</td>\n",
              "      <td>3225.0</td>\n",
              "      <td>3400.0</td>\n",
              "      <td>2455.0</td>\n",
              "      <td>296816475.0</td>\n",
              "    </tr>\n",
              "    <tr>\n",
              "      <th>2</th>\n",
              "      <td>2020.11.25</td>\n",
              "      <td>3000.0</td>\n",
              "      <td>0.0</td>\n",
              "      <td>0.0</td>\n",
              "      <td>0.0</td>\n",
              "      <td>0.0</td>\n",
              "      <td>0.0</td>\n",
              "    </tr>\n",
              "    <tr>\n",
              "      <th>3</th>\n",
              "      <td>2020.11.24</td>\n",
              "      <td>3000.0</td>\n",
              "      <td>115.0</td>\n",
              "      <td>3030.0</td>\n",
              "      <td>3360.0</td>\n",
              "      <td>2720.0</td>\n",
              "      <td>297098469.0</td>\n",
              "    </tr>\n",
              "    <tr>\n",
              "      <th>4</th>\n",
              "      <td>2020.11.23</td>\n",
              "      <td>2885.0</td>\n",
              "      <td>370.0</td>\n",
              "      <td>2945.0</td>\n",
              "      <td>3265.0</td>\n",
              "      <td>2660.0</td>\n",
              "      <td>208996869.0</td>\n",
              "    </tr>\n",
              "    <tr>\n",
              "      <th>...</th>\n",
              "      <td>...</td>\n",
              "      <td>...</td>\n",
              "      <td>...</td>\n",
              "      <td>...</td>\n",
              "      <td>...</td>\n",
              "      <td>...</td>\n",
              "      <td>...</td>\n",
              "    </tr>\n",
              "    <tr>\n",
              "      <th>1285</th>\n",
              "      <td>2015.09.03</td>\n",
              "      <td>16900.0</td>\n",
              "      <td>100.0</td>\n",
              "      <td>17150.0</td>\n",
              "      <td>17650.0</td>\n",
              "      <td>16850.0</td>\n",
              "      <td>52292.0</td>\n",
              "    </tr>\n",
              "    <tr>\n",
              "      <th>1286</th>\n",
              "      <td>2015.09.02</td>\n",
              "      <td>17000.0</td>\n",
              "      <td>100.0</td>\n",
              "      <td>16450.0</td>\n",
              "      <td>17150.0</td>\n",
              "      <td>16400.0</td>\n",
              "      <td>46343.0</td>\n",
              "    </tr>\n",
              "    <tr>\n",
              "      <th>1287</th>\n",
              "      <td>2015.09.01</td>\n",
              "      <td>16900.0</td>\n",
              "      <td>100.0</td>\n",
              "      <td>17350.0</td>\n",
              "      <td>17600.0</td>\n",
              "      <td>16850.0</td>\n",
              "      <td>96195.0</td>\n",
              "    </tr>\n",
              "    <tr>\n",
              "      <th>1288</th>\n",
              "      <td>2015.08.31</td>\n",
              "      <td>16800.0</td>\n",
              "      <td>350.0</td>\n",
              "      <td>16400.0</td>\n",
              "      <td>16800.0</td>\n",
              "      <td>16250.0</td>\n",
              "      <td>31883.0</td>\n",
              "    </tr>\n",
              "    <tr>\n",
              "      <th>1289</th>\n",
              "      <td>2015.08.28</td>\n",
              "      <td>16450.0</td>\n",
              "      <td>250.0</td>\n",
              "      <td>16400.0</td>\n",
              "      <td>16700.0</td>\n",
              "      <td>16200.0</td>\n",
              "      <td>61527.0</td>\n",
              "    </tr>\n",
              "  </tbody>\n",
              "</table>\n",
              "<p>1290 rows × 7 columns</p>\n",
              "</div>"
            ],
            "text/plain": [
              "              날짜       종가    전일비       시가       고가       저가          거래량\n",
              "0     2020.11.27   2660.0   75.0   2530.0   2900.0   2355.0  244232291.0\n",
              "1     2020.11.26   2735.0  265.0   3225.0   3400.0   2455.0  296816475.0\n",
              "2     2020.11.25   3000.0    0.0      0.0      0.0      0.0          0.0\n",
              "3     2020.11.24   3000.0  115.0   3030.0   3360.0   2720.0  297098469.0\n",
              "4     2020.11.23   2885.0  370.0   2945.0   3265.0   2660.0  208996869.0\n",
              "...          ...      ...    ...      ...      ...      ...          ...\n",
              "1285  2015.09.03  16900.0  100.0  17150.0  17650.0  16850.0      52292.0\n",
              "1286  2015.09.02  17000.0  100.0  16450.0  17150.0  16400.0      46343.0\n",
              "1287  2015.09.01  16900.0  100.0  17350.0  17600.0  16850.0      96195.0\n",
              "1288  2015.08.31  16800.0  350.0  16400.0  16800.0  16250.0      31883.0\n",
              "1289  2015.08.28  16450.0  250.0  16400.0  16700.0  16200.0      61527.0\n",
              "\n",
              "[1290 rows x 7 columns]"
            ]
          },
          "metadata": {
            "tags": []
          },
          "execution_count": 59
        }
      ]
    },
    {
      "cell_type": "code",
      "metadata": {
        "colab": {
          "base_uri": "https://localhost:8080/"
        },
        "id": "RZVUot1o0CPJ",
        "outputId": "a48749cb-f2f5-4a9d-b638-646fafa168fb"
      },
      "source": [
        "#날짜를 제외한 모든 데이터 정규화(nomalization)\n",
        "for k in range(1,7):\n",
        "  for i in range(len(df.iloc[:,1])):\n",
        "    df.iloc[:,k][i]=(df.iloc[:,k][i]-min(df.iloc[:,k]))/(max(df.iloc[:,k])-min(df.iloc[:,k]))\n",
        "print(df.iloc[:,0:])"
      ],
      "execution_count": 60,
      "outputs": [
        {
          "output_type": "stream",
          "text": [
            "/usr/local/lib/python3.6/dist-packages/ipykernel_launcher.py:4: SettingWithCopyWarning: \n",
            "A value is trying to be set on a copy of a slice from a DataFrame\n",
            "\n",
            "See the caveats in the documentation: https://pandas.pydata.org/pandas-docs/stable/user_guide/indexing.html#returning-a-view-versus-a-copy\n",
            "  after removing the cwd from sys.path.\n"
          ],
          "name": "stderr"
        },
        {
          "output_type": "stream",
          "text": [
            "              날짜        종가       전일비        시가        고가        저가       거래량\n",
            "0     2020.11.27  0.140732  0.034884  0.145821  0.164306  0.139763  0.575220\n",
            "1     2020.11.26  0.159935  0.123256  0.185879  0.192635  0.145697  0.699067\n",
            "2     2020.11.25  0.175432  0.000000  0.000000  0.000000  0.000000  0.000000\n",
            "3     2020.11.24  0.175432  0.053488  0.174640  0.190368  0.161424  0.699731\n",
            "4     2020.11.23  0.168707  0.172093  0.169741  0.184986  0.157864  0.492233\n",
            "...          ...       ...       ...       ...       ...       ...       ...\n",
            "1285  2015.09.03  0.994118  0.285714  0.988473  1.000000  1.000000  0.543604\n",
            "1286  2015.09.02  1.000000  0.285714  0.948127  0.974432  0.973294  0.481761\n",
            "1287  2015.09.01  1.000000  0.285714  1.000000  1.000000  1.000000  1.000000\n",
            "1288  2015.08.31  1.000000  1.000000  1.000000  1.000000  1.000000  0.518195\n",
            "1289  2015.08.28  1.000000  1.000000  1.000000  1.000000  1.000000  1.000000\n",
            "\n",
            "[1290 rows x 7 columns]\n"
          ],
          "name": "stdout"
        }
      ]
    },
    {
      "cell_type": "code",
      "metadata": {
        "colab": {
          "base_uri": "https://localhost:8080/"
        },
        "id": "v6psR_uN4ehM",
        "outputId": "fb511306-0cb7-4868-f4a1-c4542be274c2"
      },
      "source": [
        "#전일비와 날짜는 쓸모없는 칼럼이므로 날린다\n",
        "del df['전일비']\n",
        "del df['날짜']\n",
        "print(df)"
      ],
      "execution_count": 61,
      "outputs": [
        {
          "output_type": "stream",
          "text": [
            "            종가        시가        고가        저가       거래량\n",
            "0     0.140732  0.145821  0.164306  0.139763  0.575220\n",
            "1     0.159935  0.185879  0.192635  0.145697  0.699067\n",
            "2     0.175432  0.000000  0.000000  0.000000  0.000000\n",
            "3     0.175432  0.174640  0.190368  0.161424  0.699731\n",
            "4     0.168707  0.169741  0.184986  0.157864  0.492233\n",
            "...        ...       ...       ...       ...       ...\n",
            "1285  0.994118  0.988473  1.000000  1.000000  0.543604\n",
            "1286  1.000000  0.948127  0.974432  0.973294  0.481761\n",
            "1287  1.000000  1.000000  1.000000  1.000000  1.000000\n",
            "1288  1.000000  1.000000  1.000000  1.000000  0.518195\n",
            "1289  1.000000  1.000000  1.000000  1.000000  1.000000\n",
            "\n",
            "[1290 rows x 5 columns]\n"
          ],
          "name": "stdout"
        }
      ]
    },
    {
      "cell_type": "code",
      "metadata": {
        "id": "gGKloXCd4rLU"
      },
      "source": [
        "#텐서플로우, 케라스 넘파이 임포트\n",
        "from keras.layers.core import Dense, Activation, Dropout\n",
        "from keras.layers.recurrent import LSTM\n",
        "from keras.models import Sequential\n",
        "import numpy as np"
      ],
      "execution_count": 62,
      "outputs": []
    },
    {
      "cell_type": "code",
      "metadata": {
        "colab": {
          "base_uri": "https://localhost:8080/"
        },
        "id": "dwQrnxCv68fQ",
        "outputId": "152cc7e8-7a06-42b1-fe3d-44f62e5ad2ec"
      },
      "source": [
        "#데이터를 한칸씩 밀어서 다음날 종가를 추론 할수있게 한다\n",
        "x_train=df[:999].drop(['종가'],axis='columns')\n",
        "y_train=df[1:1000]['종가']\n",
        "x_train=np.array(x_train).astype(np.float32)\n",
        "y_train=np.array(y_train).astype(np.float32)\n",
        "x_train=x_train.reshape(x_train.shape[0],4,1)\n",
        "x_test=df[999:1289].drop(['종가'],axis='columns')\n",
        "y_test=df[1000:]['종가']\n",
        "x_test=np.array(x_test).astype(np.float32)\n",
        "y_test=np.array(y_test).astype(np.float32)\n",
        "x_test=x_test.reshape(x_test.shape[0],4,1)\n",
        "print(x_train.shape,y_train.shape)\n",
        "print(x_test.shape,y_test.shape)\n",
        "print(x_train[:5],y_train[:5])"
      ],
      "execution_count": 67,
      "outputs": [
        {
          "output_type": "stream",
          "text": [
            "(999, 4, 1) (999,)\n",
            "(290, 4, 1) (290,)\n",
            "[[[0.14582133]\n",
            "  [0.16430596]\n",
            "  [0.13976261]\n",
            "  [0.5752197 ]]\n",
            "\n",
            " [[0.18587896]\n",
            "  [0.19263457]\n",
            "  [0.14569733]\n",
            "  [0.6990668 ]]\n",
            "\n",
            " [[0.        ]\n",
            "  [0.        ]\n",
            "  [0.        ]\n",
            "  [0.        ]]\n",
            "\n",
            " [[0.17463978]\n",
            "  [0.19036826]\n",
            "  [0.16142434]\n",
            "  [0.699731  ]]\n",
            "\n",
            " [[0.16974063]\n",
            "  [0.18498583]\n",
            "  [0.1578635 ]\n",
            "  [0.4922327 ]]] [0.15993461 0.17543182 0.17543182 0.16870661 0.147069  ]\n"
          ],
          "name": "stdout"
        }
      ]
    },
    {
      "cell_type": "code",
      "metadata": {
        "colab": {
          "base_uri": "https://localhost:8080/"
        },
        "id": "p2wKVg5OBMZD",
        "outputId": "fb6ab9ed-9bf8-4c4a-cd29-a9eae1d7c8e0"
      },
      "source": [
        "#실제로 매칭이 되나 확인\n",
        "print(x_train[0],y_train[0])"
      ],
      "execution_count": 68,
      "outputs": [
        {
          "output_type": "stream",
          "text": [
            "[[0.14582133]\n",
            " [0.16430596]\n",
            " [0.13976261]\n",
            " [0.5752197 ]] 0.15993461\n"
          ],
          "name": "stdout"
        }
      ]
    },
    {
      "cell_type": "code",
      "metadata": {
        "colab": {
          "base_uri": "https://localhost:8080/"
        },
        "id": "Nnnt14vE7gYl",
        "outputId": "faa952cb-6f25-467e-d729-d889d0c3888c"
      },
      "source": [
        "#레이어 모델을 쌓는다.\n",
        "model = Sequential()\n",
        "\n",
        "model.add(LSTM(64,\n",
        "    input_shape=(4,1),\n",
        "    return_sequences=True))\n",
        "\n",
        "model.add(LSTM(\n",
        "    64,\n",
        "    return_sequences=False))\n",
        "model.add(Dense(1,Activation('linear')))\n",
        "\n",
        "model.compile(loss='mse', optimizer='rmsprop',metrics=[\"accuracy\"])\n",
        "model.summary()\n"
      ],
      "execution_count": 69,
      "outputs": [
        {
          "output_type": "stream",
          "text": [
            "Model: \"sequential\"\n",
            "_________________________________________________________________\n",
            "Layer (type)                 Output Shape              Param #   \n",
            "=================================================================\n",
            "lstm (LSTM)                  (None, 4, 64)             16896     \n",
            "_________________________________________________________________\n",
            "lstm_1 (LSTM)                (None, 64)                33024     \n",
            "_________________________________________________________________\n",
            "dense (Dense)                (None, 1)                 65        \n",
            "=================================================================\n",
            "Total params: 49,985\n",
            "Trainable params: 49,985\n",
            "Non-trainable params: 0\n",
            "_________________________________________________________________\n"
          ],
          "name": "stdout"
        }
      ]
    },
    {
      "cell_type": "code",
      "metadata": {
        "colab": {
          "base_uri": "https://localhost:8080/"
        },
        "id": "IYogbS227qy0",
        "outputId": "06f974e4-ba2d-4787-c5b7-9cadae321389"
      },
      "source": [
        "#학습시작\n",
        "model.fit(x_train,y_train,epochs=10,batch_size=4)"
      ],
      "execution_count": 70,
      "outputs": [
        {
          "output_type": "stream",
          "text": [
            "Epoch 1/10\n",
            "250/250 [==============================] - 1s 5ms/step - loss: 7.1845e-04 - accuracy: 0.0000e+00\n",
            "Epoch 2/10\n",
            "250/250 [==============================] - 1s 5ms/step - loss: 6.2000e-04 - accuracy: 0.0000e+00\n",
            "Epoch 3/10\n",
            "250/250 [==============================] - 1s 5ms/step - loss: 5.9646e-04 - accuracy: 0.0000e+00\n",
            "Epoch 4/10\n",
            "250/250 [==============================] - 1s 5ms/step - loss: 5.8063e-04 - accuracy: 0.0000e+00\n",
            "Epoch 5/10\n",
            "250/250 [==============================] - 1s 5ms/step - loss: 5.6506e-04 - accuracy: 0.0000e+00\n",
            "Epoch 6/10\n",
            "250/250 [==============================] - 1s 5ms/step - loss: 5.5057e-04 - accuracy: 0.0000e+00\n",
            "Epoch 7/10\n",
            "250/250 [==============================] - 1s 5ms/step - loss: 5.5657e-04 - accuracy: 0.0000e+00\n",
            "Epoch 8/10\n",
            "250/250 [==============================] - 1s 5ms/step - loss: 5.5140e-04 - accuracy: 0.0000e+00\n",
            "Epoch 9/10\n",
            "250/250 [==============================] - 1s 5ms/step - loss: 5.5784e-04 - accuracy: 0.0000e+00\n",
            "Epoch 10/10\n",
            "250/250 [==============================] - 1s 5ms/step - loss: 5.4874e-04 - accuracy: 0.0000e+00\n"
          ],
          "name": "stdout"
        },
        {
          "output_type": "execute_result",
          "data": {
            "text/plain": [
              "<tensorflow.python.keras.callbacks.History at 0x7f3cd0a17550>"
            ]
          },
          "metadata": {
            "tags": []
          },
          "execution_count": 70
        }
      ]
    },
    {
      "cell_type": "code",
      "metadata": {
        "colab": {
          "base_uri": "https://localhost:8080/"
        },
        "id": "BqkXXYiM742n",
        "outputId": "9eb04286-078d-4441-c446-8d6b7c838931"
      },
      "source": [
        "#추이를 확인한다 정확하진 않음\n",
        "model.evaluate(x_test,y_test)"
      ],
      "execution_count": 71,
      "outputs": [
        {
          "output_type": "stream",
          "text": [
            "10/10 [==============================] - 0s 2ms/step - loss: 0.2523 - accuracy: 0.0207\n"
          ],
          "name": "stdout"
        },
        {
          "output_type": "execute_result",
          "data": {
            "text/plain": [
              "[0.25226524472236633, 0.02068965509533882]"
            ]
          },
          "metadata": {
            "tags": []
          },
          "execution_count": 71
        }
      ]
    },
    {
      "cell_type": "code",
      "metadata": {
        "colab": {
          "base_uri": "https://localhost:8080/",
          "height": 265
        },
        "id": "A9nsNT5783E5",
        "outputId": "f6a654cb-4232-4400-a75f-d8ff90392b8c"
      },
      "source": [
        "#뒤에 자른 데이터와 그래프로 비교한다\n",
        "pred=model.predict(x_test)\n",
        "fig=plt.figure(facecolor='white')\n",
        "ax=fig.add_subplot(111)\n",
        "ax.plot(y_test,label='True')\n",
        "ax.plot(pred,label='Prediction')\n",
        "ax.legend()\n",
        "plt.show()"
      ],
      "execution_count": 72,
      "outputs": [
        {
          "output_type": "display_data",
          "data": {
            "image/png": "[encoded data removed]",
            "text/plain": [
              "<Figure size 432x288 with 1 Axes>"
            ]
          },
          "metadata": {
            "tags": []
          }
        }
      ]
    },
    {
      "cell_type": "code",
      "metadata": {
        "colab": {
          "base_uri": "https://localhost:8080/"
        },
        "id": "droI8AiH9JFn",
        "outputId": "bd16ae61-1eaa-490f-f8c4-dc60a3f09b50"
      },
      "source": [
        "print(x_train,y_train)"
      ],
      "execution_count": null,
      "outputs": [
        {
          "output_type": "stream",
          "text": [
            "[[[0.14582133]\n",
            "  [0.16430596]\n",
            "  [0.13976261]\n",
            "  [0.5752197 ]]\n",
            "\n",
            " [[0.18587896]\n",
            "  [0.19263457]\n",
            "  [0.14569733]\n",
            "  [0.6990668 ]]\n",
            "\n",
            " [[0.        ]\n",
            "  [0.        ]\n",
            "  [0.        ]\n",
            "  [0.        ]]\n",
            "\n",
            " ...\n",
            "\n",
            " [[0.09193084]\n",
            "  [0.09348442]\n",
            "  [0.09287834]\n",
            "  [0.24780926]]\n",
            "\n",
            " [[0.0945245 ]\n",
            "  [0.09830029]\n",
            "  [0.08783383]\n",
            "  [1.        ]]\n",
            "\n",
            " [[0.        ]\n",
            "  [0.        ]\n",
            "  [0.        ]\n",
            "  [0.        ]]] [0.15993461 0.17543182 0.17543182 0.16870661 0.147069   0.147069\n",
            " 0.1131506  0.08712846 0.07981987 0.07572668 0.08128248 0.06695493\n",
            " 0.06315423 0.04870994 0.04759962 0.04713185 0.04759971 0.04771667\n",
            " 0.04876931 0.0473658  0.04730732 0.04783363 0.04865235 0.04455877\n",
            " 0.04619635 0.04572851 0.04678114 0.04607939 0.04502675 0.04496827\n",
            " 0.04572851 0.04643026 0.04607939 0.04561155 0.04648874 0.04613787\n",
            " 0.0466057  0.04672266 0.04771682 0.04602091 0.042863   0.04262918\n",
            " 0.04473446 0.04385727 0.04537774 0.04631341 0.04602101 0.04672277\n",
            " 0.04707365 0.04783388 0.04607949 0.04602101 0.04637189 0.04742453\n",
            " 0.04800932 0.04783388 0.04824324 0.04736605 0.04841868 0.0457871\n",
            " 0.04572862 0.04730757 0.04531926 0.04613797 0.04379879 0.04344791\n",
            " 0.04321399 0.04151808 0.04040703 0.04186908 0.04368195 0.04333107\n",
            " 0.04531938 0.04485155 0.0458457  0.04643049 0.04572874 0.04660593\n",
            " 0.0452609  0.04695681 0.04783401 0.04894512 0.04853576 0.04748313\n",
            " 0.04830185 0.04777553 0.04742465 0.05221998 0.05689836 0.05321414\n",
            " 0.05479309 0.04952992 0.03812638 0.0370154  0.03684002 0.03695699\n",
            " 0.03783419 0.03812658 0.0392377  0.03999793 0.04046577 0.04034881\n",
            " 0.04046577 0.04169384 0.04052425 0.03982249 0.04040729 0.04064121\n",
            " 0.04222016 0.0429804  0.04134296 0.04058273 0.04157688 0.03912074\n",
            " 0.04186928 0.04192776 0.0415184  0.03941314 0.03988097 0.03976401\n",
            " 0.04175232 0.041226   0.04321431 0.04450087 0.04344823 0.04485174\n",
            " 0.04748333 0.04836052 0.05017339 0.04847748 0.04760029 0.04760029\n",
            " 0.04368215 0.03362365 0.03444255 0.03531974 0.0357291  0.03567062\n",
            " 0.03648933 0.03666477 0.03607998 0.03643085 0.0357291  0.03607998\n",
            " 0.03625542 0.03613846 0.03613846 0.03742501 0.03771741 0.03678173\n",
            " 0.03900396 0.04064139 0.03789284 0.03754197 0.03736653 0.03789284\n",
            " 0.0385946  0.03976419 0.03765893 0.03613846 0.03555366 0.03561214\n",
            " 0.03625542 0.03947179 0.03818524 0.03736653 0.03403319 0.03350687\n",
            " 0.033156   0.03280514 0.03467651 0.03087533 0.03800996 0.03976435\n",
            " 0.03800996 0.0347351  0.03783452 0.04093394 0.04151874 0.04052458\n",
            " 0.03888715 0.04140178 0.04292225 0.03303919 0.03303919 0.03146024\n",
            " 0.03321463 0.03514446 0.03672341 0.03432574 0.03637253 0.03841932\n",
            " 0.03906259 0.03988131 0.04064154 0.04081698 0.04081698 0.04151874\n",
            " 0.04198657 0.04093394 0.0416357  0.04268833 0.04140178 0.0410509\n",
            " 0.03906259 0.03830236 0.03900411 0.04023219 0.04034914 0.04128482\n",
            " 0.04151874 0.04157722 0.04157722 0.04321465 0.043624   0.04379944\n",
            " 0.04321465 0.04409184 0.04444272 0.04415032 0.04222049 0.04584623\n",
            " 0.04602167 0.04771758 0.04917957 0.04701582 0.04531991 0.04467664\n",
            " 0.04309769 0.04415032 0.0439164  0.04309769 0.04344856 0.04467664\n",
            " 0.04561231 0.045086   0.04701582 0.05034916 0.04648951 0.04455968\n",
            " 0.0442088  0.04186961 0.04578775 0.04514448 0.04660647 0.04713278\n",
            " 0.04760062 0.04976436 0.0545597  0.05116788 0.04724974 0.04888717\n",
            " 0.04888717 0.05298075 0.05403338 0.05385794 0.05935503 0.06169421\n",
            " 0.063741   0.05906263 0.06023222 0.06081702 0.06227901 0.06198661\n",
            " 0.06578778 0.06023222 0.05935503 0.0631562  0.06169421 0.05730824\n",
            " 0.08186968 0.07455973 0.07572933 0.07602172 0.0801153  0.08186968\n",
            " 0.08303928 0.0801153  0.07631412 0.07631412 0.07572933 0.07426734\n",
            " 0.07251295 0.07280535 0.07602172 0.07572933 0.07280535 0.07455973\n",
            " 0.07280535 0.07251295 0.06812697 0.07192815 0.07485213 0.0798229\n",
            " 0.0801153  0.0795305  0.07836091 0.08245448 0.07865331 0.07748371\n",
            " 0.07689892 0.08186968 0.08157729 0.07426734 0.08070009 0.08245448\n",
            " 0.08216208 0.07719132 0.08947204 0.09415041 0.08917964 0.08508607\n",
            " 0.08917964 0.08070009 0.08040769 0.07543693 0.07309774 0.07309774\n",
            " 0.07075856 0.0631562  0.06023222 0.0628638  0.06724977 0.07397494\n",
            " 0.06929657 0.06929657 0.06637258 0.06169421 0.05877023 0.05935503\n",
            " 0.06637258 0.06637258 0.07192815 0.06695738 0.06900417 0.06666498\n",
            " 0.05678192 0.05473514 0.05409186 0.05514449 0.0536825  0.0542673\n",
            " 0.04502752 0.04245441 0.0404661  0.0341503  0.03496902 0.03584621\n",
            " 0.03344855 0.03292223 0.03210352 0.03315615 0.03333159 0.03303919\n",
            " 0.03368247 0.03590469 0.03578773 0.0347351  0.03374095 0.03309767\n",
            " 0.0341503  0.0344427  0.03409182 0.03315615 0.03245439 0.03257135\n",
            " 0.03257135 0.03245439 0.0315772  0.03280527 0.03233743 0.032162\n",
            " 0.03222048 0.0315772  0.03344855 0.0347351  0.03479358 0.03298071\n",
            " 0.03268831 0.03531989 0.03514446 0.03637253 0.0376006  0.03941347\n",
            " 0.04011523 0.04005675 0.04005675 0.0407585  0.04186961 0.04257137\n",
            " 0.04292225 0.04140178 0.04128482 0.04146026 0.04239593 0.04239593\n",
            " 0.04280529 0.04303921 0.04286377 0.04409184 0.04502752 0.04561231\n",
            " 0.04543687 0.04520296 0.04444272 0.04403336 0.04438424 0.04461816\n",
            " 0.0439164  0.04298073 0.04315617 0.04257137 0.04257137 0.04210353\n",
            " 0.04222049 0.04210353 0.04210353 0.04303921 0.04321465 0.04198657\n",
            " 0.04151874 0.0410509  0.03853628 0.03806844 0.0373082  0.03859476\n",
            " 0.03912107 0.0407585  0.04052458 0.0407585  0.0413433  0.0410509\n",
            " 0.04099242 0.04344856 0.04309769 0.04222049 0.04339008 0.04409184\n",
            " 0.04397488 0.04309769 0.04321465 0.03999827 0.04227897 0.04280529\n",
            " 0.04520296 0.04590471 0.04643103 0.04619711 0.04491056 0.04608015\n",
            " 0.04567079 0.04631407 0.04648951 0.04543687 0.04467664 0.04467664\n",
            " 0.04531991 0.04531991 0.04613863 0.04748366 0.05146028 0.04695734\n",
            " 0.04672343 0.04643103 0.04537839 0.04502752 0.04514448 0.045086\n",
            " 0.04666495 0.04742518 0.0476591  0.04578775 0.04385792 0.04537839\n",
            " 0.04397488 0.04800998 0.0470743  0.04800998 0.04619711 0.0473667\n",
            " 0.0473667  0.04988132 0.05064156 0.05116788 0.05391642 0.04830237\n",
            " 0.04923805 0.04882869 0.0376006  0.03701581 0.03660645 0.03672341\n",
            " 0.03648949 0.03666493 0.03678188 0.03648949 0.03742516 0.037893\n",
            " 0.03812692 0.03894563 0.03724973 0.03643101 0.03637253 0.03648949\n",
            " 0.03736668 0.037893   0.03800996 0.03684037 0.0376006  0.03707429\n",
            " 0.03660645 0.03549533 0.03175264 0.0318696  0.03262983 0.03520294\n",
            " 0.03841932 0.03841932 0.04040762 0.04128482 0.04216201 0.04309769\n",
            " 0.04210353 0.04181113 0.0413433  0.0413433  0.0410509  0.04356552\n",
            " 0.04409184 0.0410509  0.04216201 0.04514448 0.0470743  0.04859477\n",
            " 0.04941349 0.04871173 0.04713278 0.04777606 0.0482439  0.04988132\n",
            " 0.0505246  0.05087548 0.05093396 0.05157724 0.05064156 0.0511094\n",
            " 0.05175268 0.05233747 0.05175268 0.05181115 0.05204507 0.05303923\n",
            " 0.05286379 0.05222051 0.05128484 0.05257139 0.05262987 0.05298075\n",
            " 0.05315619 0.05151876 0.05157724 0.05005676 0.05005676 0.05005676\n",
            " 0.05292227 0.05292227 0.05379946 0.05379946 0.05508601 0.05479361\n",
            " 0.0542673  0.0542673  0.05602169 0.05836087 0.05496905 0.05315619\n",
            " 0.05093396 0.06608018 0.06578778 0.07222055 0.07251295 0.07192815\n",
            " 0.07602172 0.07309774 0.07339014 0.07309774 0.07426734 0.07514453\n",
            " 0.07514453 0.07572933 0.07455973 0.07572933 0.07572933 0.0789457\n",
            " 0.0792381  0.08274688 0.07660652 0.07485213 0.07631412 0.07455973\n",
            " 0.07602172 0.07426734 0.07426734 0.07660652 0.0789457  0.07777611\n",
            " 0.08040769 0.0801153  0.08070009 0.08245448 0.08157729 0.07806851\n",
            " 0.07719132 0.07719132 0.07689892 0.08070009 0.08567087 0.08274688\n",
            " 0.09034923 0.0950276  0.08742525 0.08742525 0.08888724 0.09093403\n",
            " 0.09970598 0.10058317 0.08801005 0.08625566 0.08567087 0.08567087\n",
            " 0.09473521 0.09824399 0.09999838 0.10438435 0.10526154 0.1119867\n",
            " 0.1119867  0.11344869 0.10935511 0.11637267 0.11754227 0.11052471\n",
            " 0.11432589 0.11169431 0.10789312 0.11344869 0.11052471 0.10584634\n",
            " 0.10467675 0.10116797 0.09853639 0.08596326 0.08771765 0.08684046\n",
            " 0.08099249 0.07865331 0.0801153  0.08186968 0.0792381  0.0789457\n",
            " 0.08040769 0.0798229  0.07836091 0.07719132 0.08040769 0.08128489\n",
            " 0.08245448 0.08362408 0.09678199 0.09064163 0.08391648 0.0798229\n",
            " 0.08040769 0.07748371 0.08362408 0.07777611 0.08040769 0.08186968\n",
            " 0.0795305  0.08186968 0.08625566 0.08157729 0.08596326 0.08479367\n",
            " 0.08450127 0.08537847 0.08128489 0.08186968 0.08157729 0.08684046\n",
            " 0.08830245 0.09064163 0.08859485 0.08742525 0.08099249 0.08245448\n",
            " 0.08303928 0.08274688 0.07865331 0.07719132 0.0789457  0.07777611\n",
            " 0.07689892 0.07397494 0.07602172 0.0789457  0.07865331 0.07426734\n",
            " 0.0801153  0.07748371 0.07631412 0.06958897 0.06929657 0.06900417\n",
            " 0.06812697 0.06812697 0.06724977 0.06695738 0.06783457 0.07075856\n",
            " 0.07368254 0.0801153  0.0792381  0.07455973 0.07251295 0.07192815\n",
            " 0.07222055 0.07602172 0.07543693 0.07602172 0.07719132 0.07660652\n",
            " 0.07689892 0.07689892 0.07514453 0.07543693 0.07280535 0.07455973\n",
            " 0.07660652 0.07631412 0.0801153  0.07777611 0.07689892 0.07543693\n",
            " 0.07251295 0.06666498 0.07397494 0.07368254 0.07309774 0.07660652\n",
            " 0.0792381  0.07485213 0.07631412 0.07836091 0.07806851 0.07660652\n",
            " 0.07426734 0.07455973 0.07368254 0.07543693 0.07455973 0.07806851\n",
            " 0.0795305  0.0795305  0.08713286 0.08303928 0.08040769 0.08040769\n",
            " 0.08040769 0.08186968 0.08186968 0.08362408 0.08508607 0.08128489\n",
            " 0.08157729 0.0801153  0.08070009 0.08450127 0.08537847 0.08479367\n",
            " 0.08713286 0.08713286 0.09005684 0.08976444 0.08654806 0.08713286\n",
            " 0.09356561 0.01824384 0.01824457 0.01824457 0.01824457 0.01824457\n",
            " 0.01824457 0.01824457 0.01824457 0.01824457 0.01824457 0.01824457\n",
            " 0.01824457 0.01824457 0.01824457 0.01824457 0.01824457 0.01725041\n",
            " 0.01812766 0.01789375 0.01818614 0.01877094 0.01877094 0.0188879\n",
            " 0.01882942 0.01882942 0.01865398 0.0188879  0.01836158 0.01777679\n",
            " 0.01760135 0.01795223 0.01853702 0.0185955  0.01912182 0.0194727\n",
            " 0.01953118 0.01912182 0.01900486 0.01912182 0.01894638 0.01871246\n",
            " 0.01877094 0.01871246 0.01994053 0.02140252 0.02157796 0.02192884\n",
            " 0.0217534  0.02210428 0.0220458  0.0220458  0.02210428 0.02216276\n",
            " 0.02216276 0.02257211 0.02257211 0.02263059 0.02280603 0.02315691\n",
            " 0.02321539 0.02327387 0.02356627 0.02356627 0.02257211 0.02245515\n",
            " 0.02222124 0.02245515 0.02257211 0.02292299 0.02274755 0.02274755\n",
            " 0.02292299 0.02333235 0.02344931 0.02368323 0.02380018 0.02409258\n",
            " 0.02333235 0.02333235 0.02245515 0.02239667 0.02315691 0.02385866\n",
            " 0.02362475 0.02385866 0.0246189  0.02485282 0.02508674 0.02502826\n",
            " 0.0252037  0.02456042 0.02549609 0.02561305 0.02298147 0.02268907\n",
            " 0.02286451 0.02286451 0.0240341  0.02415106 0.02374171 0.0243265\n",
            " 0.02426802 0.02496978 0.02485282 0.0249113  0.02327387 0.02327387\n",
            " 0.02303995 0.02216276 0.02198732 0.02216276 0.02198732 0.02187036\n",
            " 0.02227972 0.02286451 0.02397562 0.0240341  0.02420954 0.02485282\n",
            " 0.02508674 0.02555457 0.02473586 0.02467738 0.02485282 0.02444346\n",
            " 0.02444346 0.02502826 0.02391714 0.02385866 0.02444346 0.02625633\n",
            " 0.02666569 0.02701656 0.02707504 0.02742592 0.02812767 0.02801071\n",
            " 0.02725048 0.02725048 0.02707504 0.02637329 0.02549609 0.02514522\n",
            " 0.02479434 0.0249113  0.02514522 0.02561305 0.02456042 0.0246189\n",
            " 0.02508674 0.02590545 0.02573001 0.02713352 0.02713352 0.02871247\n",
            " 0.02842007 0.02929727 0.02801071 0.02771832 0.02806919 0.02806919\n",
            " 0.02836159 0.02865399 0.02853703 0.02765984 0.02801071 0.02801071\n",
            " 0.02771832 0.02789376 0.02900487 0.02801071 0.02894639 0.02912183\n",
            " 0.02847855 0.02888791 0.03128557 0.03268908 0.0300575  0.03046686\n",
            " 0.03116861 0.03175341 0.03233821 0.03233821 0.07485287 0.07631486\n",
            " 0.07339088 0.07426807 0.07573006 0.07865404 0.07865404 0.07777685\n",
            " 0.07748445 0.08187042 0.09122715 0.09005756 0.08859557 0.07719205\n",
            " 0.07982364 0.08099323 0.07894644 0.08128563 0.08274762 0.08391721\n",
            " 0.08391721 0.08304001 0.08187042 0.08304001 0.07982364 0.09181195\n",
            " 0.09210435 0.5251457  0.5251457 ]\n"
          ],
          "name": "stdout"
        }
      ]
    },
    {
      "cell_type": "code",
      "metadata": {
        "id": "j00QAYc_Ahj4"
      },
      "source": [
        ""
      ],
      "execution_count": null,
      "outputs": []
    }
  ]
}